{
 "cells": [
  {
   "cell_type": "code",
   "execution_count": 4,
   "id": "fea41515-835d-4552-a9d7-b69ce1afbe3b",
   "metadata": {},
   "outputs": [
    {
     "data": {
      "application/vnd.jupyter.widget-view+json": {
       "model_id": "d72d2f45f3164ad299cbc36c8ec747da",
       "version_major": 2,
       "version_minor": 0
      },
      "text/plain": [
       "Tab(children=(VBox(children=(Textarea(value='# Python example code\\ndef greet():\\n    print(\"👋 Hello from Pyth…"
      ]
     },
     "metadata": {},
     "output_type": "display_data"
    }
   ],
   "source": [
    "import ipywidgets as widgets\n",
    "from IPython.display import display\n",
    "import os\n",
    "\n",
    "# ——— Scripts de ejemplo ———\n",
    "python_src = '''\\\n",
    "# Python example code\n",
    "def greet():\n",
    "    print(\"👋 Hello from Python\")\n",
    "greet()\n",
    "'''\n",
    "\n",
    "rust_src = '''\\\n",
    "// Rust example code\n",
    "fn main() {\n",
    "    println!(\"👋 Hello from Rust\");\n",
    "}\n",
    "'''\n",
    "\n",
    "# ——— Pestaña Python ———\n",
    "# Muestra el código\n",
    "code_py = widgets.Textarea(\n",
    "    value=python_src,\n",
    "    disabled=True,\n",
    "    layout=widgets.Layout(width='100%', height='120px')\n",
    ")\n",
    "# Ejecuta y captura la salida\n",
    "out_py = widgets.Output(layout=widgets.Layout(border='1px solid lightgray'))\n",
    "with out_py:\n",
    "    exec(python_src, globals())\n",
    "\n",
    "py_pane = widgets.VBox([code_py, out_py])\n",
    "\n",
    "# ——— Pestaña Rust ———\n",
    "code_rs = widgets.Textarea(\n",
    "    value=rust_src,\n",
    "    disabled=True,\n",
    "    layout=widgets.Layout(width='100%', height='120px')\n",
    ")\n",
    "out_rs = widgets.Output(layout=widgets.Layout(border='1px solid lightgray'))\n",
    "with out_rs:\n",
    "    # crea, compila y ejecuta un fichero temporal\n",
    "    with open('example.rs', 'w') as f:\n",
    "        f.write(rust_src)\n",
    "    !rustc example.rs && ./example\n",
    "\n",
    "rs_pane = widgets.VBox([code_rs, out_rs])\n",
    "\n",
    "# ——— Crear y mostrar las pestañas ———\n",
    "tabs = widgets.Tab(children=[py_pane, rs_pane])\n",
    "tabs.set_title(0, \"Python\")\n",
    "tabs.set_title(1, \"Rust\")\n",
    "display(tabs)\n"
   ]
  },
  {
   "cell_type": "code",
   "execution_count": null,
   "id": "418ea742-5349-4adb-9c3f-4e833579ee86",
   "metadata": {},
   "outputs": [],
   "source": []
  }
 ],
 "metadata": {
  "kernelspec": {
   "display_name": "Python 3 (ipykernel)",
   "language": "python",
   "name": "python3"
  },
  "language_info": {
   "codemirror_mode": {
    "name": "ipython",
    "version": 3
   },
   "file_extension": ".py",
   "mimetype": "text/x-python",
   "name": "python",
   "nbconvert_exporter": "python",
   "pygments_lexer": "ipython3",
   "version": "3.13.4"
  }
 },
 "nbformat": 4,
 "nbformat_minor": 5
}
