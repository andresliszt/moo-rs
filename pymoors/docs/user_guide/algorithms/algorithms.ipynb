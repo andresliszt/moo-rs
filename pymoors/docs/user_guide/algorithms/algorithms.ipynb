{
 "cells": [
  {
   "cell_type": "markdown",
   "id": "f31e1b50-ee1a-4f5f-9472-ecf5862db40c",
   "metadata": {},
   "source": [
    "# Introduction\n",
    "\n",
    "In pymoors, the algorithms are implemented as classes that are exposed on the Python side with a set of useful attributes. These attributes include the final population and the optimal or best set of individuals found during the optimization process.\n",
    "\n",
    "For example, after running an algorithm like NSGA2, you can access:\n",
    "- **Final Population:** The complete set of individuals from the last generation.\n",
    "- **Optimum Set:** Typically, the best individuals (e.g., those with rank 0) that form the current approximation of the Pareto front.\n",
    "\n",
    "This design abstracts away the complexities of the underlying Rust implementation and provides an intuitive, Pythonic interface for setting up, executing, and analyzing multi-objective optimization problems.\n",
    "\n",
    "## Mathematical Formulation of a Multi-Objective Optimization Problem with Constraints\n",
    "\n",
    "Consider the following optimization problem:\n",
    "\n",
    "$$\n",
    "\\begin{aligned}\n",
    "\\min_{x_1, x_2} \\quad & f_1(x_1,x_2) = x_1^2 + x_2^2 \\\\\n",
    "\\min_{x_1, x_2} \\quad & f_2(x_1,x_2) = (x_1-1)^2 + x_2^2 \\\\\n",
    "\\text{subject to} \\quad & x_1 + x_2 \\leq 1, \\\\\n",
    "& x_1 \\geq 0,\\quad x_2 \\geq 0.\n",
    "\\end{aligned}\n",
    "$$\n",
    "\n",
    "Below is how you can formulate and solve this problem in pymoors:"
   ]
  },
  {
   "cell_type": "code",
   "execution_count": 1,
   "id": "0e28d351-1c23-4a84-9447-7796f2d5f3cc",
   "metadata": {},
   "outputs": [],
   "source": [
    "import numpy as np\n",
    "from pymoors import (\n",
    "    Nsga2,\n",
    "    RandomSamplingFloat,\n",
    "    GaussianMutation,\n",
    "    SimulatedBinaryCrossover,\n",
    "    CloseDuplicatesCleaner\n",
    ")\n",
    "from pymoors.typing import TwoDArray\n",
    "\n",
    "# Define the fitness function\n",
    "def fitness(genes: TwoDArray) -> TwoDArray:\n",
    "    x1 = genes[:, 0]\n",
    "    x2 = genes[:, 1]\n",
    "    # Objective 1: f1(x1,x2) = x1^2 + x2^2\n",
    "    f1 = x1**2 + x2**2\n",
    "    # Objective 2: f2(x1,x2) = (x1-1)^2 + x2**2\n",
    "    f2 = (x1 - 1)**2 + x2**2\n",
    "    return np.column_stack([f1, f2])\n",
    "\n",
    "# Define the constraints function\n",
    "def constraints(genes: TwoDArray) -> TwoDArray:\n",
    "    x1 = genes[:, 0]\n",
    "    x2 = genes[:, 1]\n",
    "    # Constraint 1: x1 + x2 <= 1\n",
    "    g1 = x1 + x2 - 1\n",
    "    # Convert to 2D array\n",
    "    return g1.reshape(-1, 1)\n",
    "\n",
    "# Set up the NSGA2 algorithm with the above definitions\n",
    "algorithm = Nsga2(\n",
    "    sampler=RandomSamplingFloat(min=0, max=1),\n",
    "    crossover=SimulatedBinaryCrossover(distribution_index=5),\n",
    "    mutation=GaussianMutation(gene_mutation_rate=0.1, sigma=0.01),\n",
    "    fitness_fn=fitness,\n",
    "    constraints_fn=constraints,  # Pass the constraints function\n",
    "    duplicates_cleaner=CloseDuplicatesCleaner(epsilon=1e-8),\n",
    "    n_vars=2,\n",
    "    population_size=200,\n",
    "    num_offsprings=200,\n",
    "    num_iterations=200,\n",
    "    mutation_rate=0.1,\n",
    "    crossover_rate=0.9,\n",
    "    keep_infeasible=False,\n",
    "    lower_bound=0,\n",
    "    verbose = False\n",
    ")\n",
    "\n",
    "# Run the algorithm\n",
    "algorithm.run()"
   ]
  },
  {
   "cell_type": "code",
   "execution_count": 2,
   "id": "577a703c-5a27-4dbc-92c2-815b6f8c5136",
   "metadata": {},
   "outputs": [],
   "source": [
    "population = algorithm.population"
   ]
  },
  {
   "cell_type": "code",
   "execution_count": 3,
   "id": "01494a9a-1f0b-43bb-9e60-62c0aa9489e4",
   "metadata": {},
   "outputs": [
    {
     "data": {
      "text/plain": [
       "array([[9.99394079e-01, 9.33103923e-08],\n",
       "       [1.79754182e-07, 9.99783590e-01],\n",
       "       [7.50372090e-02, 5.27190285e-01],\n",
       "       [2.80567643e-01, 2.21203093e-01],\n",
       "       [2.45794571e-01, 2.54248519e-01],\n",
       "       [9.48968574e-01, 6.82047091e-04],\n",
       "       [8.13828732e-02, 5.10873063e-01],\n",
       "       [9.68096834e-03, 8.12970387e-01],\n",
       "       [8.97929178e-01, 2.76410736e-03],\n",
       "       [2.90672542e-01, 2.12399375e-01]])"
      ]
     },
     "execution_count": 3,
     "metadata": {},
     "output_type": "execute_result"
    }
   ],
   "source": [
    "# Get the fitness\n",
    "population.fitness[:10]"
   ]
  },
  {
   "cell_type": "code",
   "execution_count": 4,
   "id": "282878c7-9855-404f-b3f4-00fbd895639d",
   "metadata": {},
   "outputs": [
    {
     "data": {
      "text/plain": [
       "array([[9.99696993e-01, 3.86900355e-05],\n",
       "       [1.08294861e-04, 4.09910240e-04],\n",
       "       [2.73923462e-01, 1.77371818e-03],\n",
       "       [5.29682275e-01, 2.08101070e-03],\n",
       "       [4.95773026e-01, 1.91765718e-03],\n",
       "       [9.74143263e-01, 3.67100179e-03],\n",
       "       [2.85254905e-01, 3.53726804e-03],\n",
       "       [9.83552908e-02, 2.68423465e-03],\n",
       "       [9.47582535e-01, 4.06407890e-03],\n",
       "       [5.39136584e-01, 2.07037314e-03]])"
      ]
     },
     "execution_count": 4,
     "metadata": {},
     "output_type": "execute_result"
    }
   ],
   "source": [
    "# Get the variables\n",
    "population.genes[:10]"
   ]
  },
  {
   "cell_type": "code",
   "execution_count": 5,
   "id": "2e36a57e-c196-4605-85ae-6e471da8eac5",
   "metadata": {},
   "outputs": [
    {
     "data": {
      "text/plain": [
       "array([9.99696993e-01, 3.86900355e-05])"
      ]
     },
     "execution_count": 5,
     "metadata": {},
     "output_type": "execute_result"
    }
   ],
   "source": [
    "# Get the optimal solutions\n",
    "best = population.best\n",
    "best[0].genes"
   ]
  },
  {
   "cell_type": "code",
   "execution_count": 6,
   "id": "4fe2ba53-1393-4086-b761-7b76a62a9d8b",
   "metadata": {},
   "outputs": [
    {
     "data": {
      "text/plain": [
       "array([9.99394079e-01, 9.33103923e-08])"
      ]
     },
     "execution_count": 6,
     "metadata": {},
     "output_type": "execute_result"
    }
   ],
   "source": [
    "best[0].fitness"
   ]
  }
 ],
 "metadata": {
  "kernelspec": {
   "display_name": "Python 3 (ipykernel)",
   "language": "python",
   "name": "python3"
  },
  "language_info": {
   "codemirror_mode": {
    "name": "ipython",
    "version": 3
   },
   "file_extension": ".py",
   "mimetype": "text/x-python",
   "name": "python",
   "nbconvert_exporter": "python",
   "pygments_lexer": "ipython3",
   "version": "3.12.8"
  }
 },
 "nbformat": 4,
 "nbformat_minor": 5
}
