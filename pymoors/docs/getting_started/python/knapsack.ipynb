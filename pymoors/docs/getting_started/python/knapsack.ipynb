{
 "cells": [
  {
   "cell_type": "code",
   "execution_count": 1,
   "id": "da938adf-e1bf-457f-a64f-5153c94c50d3",
   "metadata": {},
   "outputs": [],
   "source": [
    "import numpy as np\n",
    "\n",
    "from pymoors import (\n",
    "    Nsga2,\n",
    "    RandomSamplingBinary,\n",
    "    BitFlipMutation,\n",
    "    SinglePointBinaryCrossover,\n",
    "    ExactDuplicatesCleaner,\n",
    ")\n",
    "from pymoors.typing import TwoDArray\n",
    "\n",
    "\n",
    "PROFITS = np.array([2, 3, 6, 1, 4])\n",
    "QUALITIES = np.array([5, 2, 1, 6, 4])\n",
    "WEIGHTS = np.array([2, 3, 6, 2, 3])\n",
    "CAPACITY = 7\n",
    "\n",
    "\n",
    "def knapsack_fitness(genes: TwoDArray) -> TwoDArray:\n",
    "    # Calculate total profit\n",
    "    profit_sum = np.sum(PROFITS * genes, axis=1, keepdims=True)\n",
    "    # Calculate total quality\n",
    "    quality_sum = np.sum(QUALITIES * genes, axis=1, keepdims=True)\n",
    "\n",
    "    # We want to maximize profit and quality,\n",
    "    # so in pymoors we minimize the negative values\n",
    "    f1 = -profit_sum\n",
    "    f2 = -quality_sum\n",
    "    return np.column_stack([f1, f2])\n",
    "\n",
    "\n",
    "def knapsack_constraint(genes: TwoDArray) -> TwoDArray:\n",
    "    # Calculate total weight\n",
    "    weight_sum = np.sum(WEIGHTS * genes, axis=1, keepdims=True)\n",
    "    # Inequality constraint: weight_sum <= capacity\n",
    "    return weight_sum - CAPACITY\n",
    "\n",
    "\n",
    "algorithm = Nsga2(\n",
    "    sampler=RandomSamplingBinary(),\n",
    "    crossover=SinglePointBinaryCrossover(),\n",
    "    mutation=BitFlipMutation(gene_mutation_rate=0.5),\n",
    "    fitness_fn=knapsack_fitness,\n",
    "    constraints_fn=knapsack_constraint,\n",
    "    duplicates_cleaner=ExactDuplicatesCleaner(),\n",
    "    num_vars=5,\n",
    "    population_size=16,\n",
    "    num_offsprings=16,\n",
    "    num_iterations=10,\n",
    "    mutation_rate=0.1,\n",
    "    crossover_rate=0.9,\n",
    "    keep_infeasible=False,\n",
    "    verbose=False,\n",
    ")\n",
    "\n",
    "algorithm.run()"
   ]
  },
  {
   "cell_type": "markdown",
   "id": "01739619-6191-4994-8c7e-3c2ae4f85dc3",
   "metadata": {},
   "source": [
    "In this **small example**, the algorithm finds a **single** solution on the Pareto front: selecting the items **(A, D, E)**, with a profit of **7** and a quality of **15**. This means there is no other combination that can match or exceed *both* objectives without exceeding the knapsack capacity (7).\n",
    "\n",
    "Once the algorithm finishes, it stores a `population` attribute that contains all the individuals evaluated during the search."
   ]
  },
  {
   "cell_type": "code",
   "execution_count": 2,
   "id": "a12eefa3-bac8-471d-bc55-e91e644208d8",
   "metadata": {},
   "outputs": [
    {
     "data": {
      "text/plain": [
       "array([[1., 0., 0., 1., 1.],\n",
       "       [1., 1., 0., 1., 0.],\n",
       "       [0., 1., 0., 0., 1.],\n",
       "       [1., 0., 0., 0., 1.],\n",
       "       [1., 0., 0., 1., 0.],\n",
       "       [0., 0., 0., 1., 1.],\n",
       "       [0., 0., 1., 0., 0.],\n",
       "       [1., 1., 0., 0., 0.],\n",
       "       [0., 1., 0., 1., 0.],\n",
       "       [1., 0., 0., 0., 0.],\n",
       "       [0., 0., 0., 0., 1.],\n",
       "       [0., 0., 0., 1., 0.],\n",
       "       [0., 1., 0., 0., 0.],\n",
       "       [0., 0., 0., 0., 0.]])"
      ]
     },
     "execution_count": 2,
     "metadata": {},
     "output_type": "execute_result"
    }
   ],
   "source": [
    "# repl\n",
    "population = algorithm.population\n",
    "# Get genes\n",
    "population.genes"
   ]
  },
  {
   "cell_type": "code",
   "execution_count": 3,
   "id": "63386f9d-1912-44a2-88e9-b9c6f7812f07",
   "metadata": {},
   "outputs": [
    {
     "data": {
      "text/plain": [
       "array([[ -7., -15.],\n",
       "       [ -6., -13.],\n",
       "       [ -7.,  -6.],\n",
       "       [ -6.,  -9.],\n",
       "       [ -3., -11.],\n",
       "       [ -5., -10.],\n",
       "       [ -6.,  -1.],\n",
       "       [ -5.,  -7.],\n",
       "       [ -4.,  -8.],\n",
       "       [ -2.,  -5.],\n",
       "       [ -4.,  -4.],\n",
       "       [ -1.,  -6.],\n",
       "       [ -3.,  -2.],\n",
       "       [ -0.,  -0.]])"
      ]
     },
     "execution_count": 3,
     "metadata": {},
     "output_type": "execute_result"
    }
   ],
   "source": [
    "# repl\n",
    "# Get fitness\n",
    "population.fitness"
   ]
  },
  {
   "cell_type": "code",
   "execution_count": 4,
   "id": "2138a183-a874-43ba-98f8-18226cf380a5",
   "metadata": {},
   "outputs": [
    {
     "data": {
      "text/plain": [
       "array([[ 0.],\n",
       "       [ 0.],\n",
       "       [-1.],\n",
       "       [-2.],\n",
       "       [-3.],\n",
       "       [-2.],\n",
       "       [-1.],\n",
       "       [-2.],\n",
       "       [-2.],\n",
       "       [-5.],\n",
       "       [-4.],\n",
       "       [-5.],\n",
       "       [-4.],\n",
       "       [-7.]])"
      ]
     },
     "execution_count": 4,
     "metadata": {},
     "output_type": "execute_result"
    }
   ],
   "source": [
    "# repl\n",
    "# Get constraints\n",
    "population.constraints"
   ]
  },
  {
   "cell_type": "code",
   "execution_count": 5,
   "id": "eba982c3-2795-4ef9-86b4-23dbc8e76922",
   "metadata": {},
   "outputs": [
    {
     "data": {
      "text/plain": [
       "array([0, 1, 1, 2, 2, 2, 3, 3, 3, 4, 4, 4, 5, 6], dtype=uint64)"
      ]
     },
     "execution_count": 5,
     "metadata": {},
     "output_type": "execute_result"
    }
   ],
   "source": [
    "# repl\n",
    "# Get rank (for Nsga2)\n",
    "population.rank"
   ]
  },
  {
   "cell_type": "code",
   "execution_count": 6,
   "id": "afb6cc33-4585-4f3f-aa63-22d04726c3d8",
   "metadata": {},
   "outputs": [
    {
     "data": {
      "text/plain": [
       "[<pymoors.schemas.Individual at 0x1c6699386e0>]"
      ]
     },
     "execution_count": 6,
     "metadata": {},
     "output_type": "execute_result"
    }
   ],
   "source": [
    "# repl\n",
    "best = population.best\n",
    "best"
   ]
  },
  {
   "cell_type": "code",
   "execution_count": 7,
   "id": "e1310612-0518-472b-9e98-114e94e298cd",
   "metadata": {},
   "outputs": [
    {
     "data": {
      "text/plain": [
       "array([1., 0., 0., 1., 1.])"
      ]
     },
     "execution_count": 7,
     "metadata": {},
     "output_type": "execute_result"
    }
   ],
   "source": [
    "# repl\n",
    "best[0].genes"
   ]
  },
  {
   "cell_type": "code",
   "execution_count": 8,
   "id": "e9de68b8-b12b-474e-b1fe-0ce64a5870e8",
   "metadata": {},
   "outputs": [
    {
     "data": {
      "text/plain": [
       "array([ -7., -15.])"
      ]
     },
     "execution_count": 8,
     "metadata": {},
     "output_type": "execute_result"
    }
   ],
   "source": [
    "# repl\n",
    "best[0].fitness"
   ]
  },
  {
   "cell_type": "markdown",
   "id": "54415309-f4ce-4bfe-83f7-18427524ab67",
   "metadata": {},
   "source": [
    "> **ℹ️ Note – Population Size and Duplicates**  \n",
    ">  \n",
    "> Note that although the specified `population_size` was 16, the final population ended up\n",
    "> being 13 individuals, of which 1 had `rank = 0`.  \n",
    "> This is because we used the `keep_infeasible=False` argument, removing any individual\n",
    "> that did not satisfy the constraints_fn (in this case, the weight constraint).  \n",
    "> We also used a duplicate remover called `ExactDuplicatesCleaner` that eliminates all exact\n",
    "> duplicates—meaning whenever `genes1 == genes2` in every component.  \n",
    ">\n",
    "> **💡 Tip – Variable Types in pymoors**  \n",
    ">  \n",
    "> In **pymoors**, there is no strict enforcement of whether variables are integer, binary, or\n",
    "> real. The core Rust implementation works with `f64` ndarrays.  \n",
    "> To preserve a specific variable type—binary, integer, or real—you must ensure that the\n",
    "> genetic operators themselves maintain it.  \n",
    ">  \n",
    "> It is **the user's responsibility** to choose the appropriate genetic operators for the\n",
    "> variable type in question. In the knapsack example, we use binary-style genetic operators,\n",
    "> which is why the solutions are arrays of 0 s and 1 s."
   ]
  }
 ],
 "metadata": {
  "kernelspec": {
   "display_name": "Python 3 (ipykernel)",
   "language": "python",
   "name": "python3"
  },
  "language_info": {
   "codemirror_mode": {
    "name": "ipython",
    "version": 3
   },
   "file_extension": ".py",
   "mimetype": "text/x-python",
   "name": "python",
   "nbconvert_exporter": "python",
   "pygments_lexer": "ipython3",
   "version": "3.13.4"
  }
 },
 "nbformat": 4,
 "nbformat_minor": 5
}
