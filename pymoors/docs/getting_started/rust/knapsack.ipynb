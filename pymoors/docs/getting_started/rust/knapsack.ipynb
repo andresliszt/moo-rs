{
 "cells": [
  {
   "cell_type": "code",
   "execution_count": 18,
   "id": "99f3f508-d729-4945-8870-236dfeb45e72",
   "metadata": {
    "vscode": {
     "languageId": "rust"
    }
   },
   "outputs": [
    {
     "name": "stdout",
     "output_type": "stream",
     "text": [
      "Warning: Only 15 offspring were generated out of the desired 16.\n"
     ]
    }
   ],
   "source": [
    "use ndarray::{Array1, Array2, Axis, stack, Ix1, Ix2};\n",
    "use ordered_float::OrderedFloat;\n",
    "use std::collections::HashSet;\n",
    "\n",
    "use moors::{\n",
    "    algorithms::{Nsga2, Nsga2Builder},\n",
    "    duplicates::ExactDuplicatesCleaner,\n",
    "    operators::{BitFlipMutation, RandomSamplingBinary, SinglePointBinaryCrossover},\n",
    "    genetic::Population\n",
    "};\n",
    "\n",
    "// problem data\n",
    "const PROFITS: [f64; 5] = [2.0, 3.0, 6.0, 1.0, 4.0];\n",
    "const QUALITIES: [f64; 5] = [5.0, 2.0, 1.0, 6.0, 4.0];\n",
    "const WEIGHTS: [f64; 5] = [2.0, 3.0, 6.0, 2.0, 3.0];\n",
    "const CAPACITY: f64 = 7.0;\n",
    "\n",
    "fn fitness_knapsack(populationulation_genes: &Array2<f64>) -> Array2<f64> {\n",
    "    // Calculate total profit\n",
    "    let profits_arr = Array1::from_vec(PROFITS.to_vec());\n",
    "    let profit_sum = populationulation_genes.dot(&profits_arr);\n",
    "\n",
    "    // Calculate total quality\n",
    "    let qualities_arr = Array1::from_vec(QUALITIES.to_vec());\n",
    "    let quality_sum = populationulation_genes.dot(&qualities_arr);\n",
    "\n",
    "    // We want to maximize profit and quality,\n",
    "    // so in moors we minimize the negative values\n",
    "    stack(Axis(1), &[(-&profit_sum).view(), (-&quality_sum).view()]).expect(\"stack failed\")\n",
    "}\n",
    "\n",
    "fn constraints_knapsack(populationulation_genes: &Array2<f64>) -> Array1<f64> {\n",
    "    // Calculate total weight\n",
    "    let weights_arr = Array1::from_vec(WEIGHTS.to_vec());\n",
    "    // Inequality constraint: weight_sum <= capacity\n",
    "    populationulation_genes.dot(&weights_arr) - CAPACITY\n",
    "}\n",
    "\n",
    "// NOTE: The clone is only needed for the notebook source of this file. Also, most of the cases\n",
    "// you don't need to specify the Population<Ix2, Ix1> signature\n",
    "let population: Population<Ix2, Ix1> = {\n",
    "    let mut algorithm = Nsga2Builder::default()\n",
    "        .fitness_fn(fitness_knapsack)\n",
    "        .constraints_fn(constraints_knapsack)\n",
    "        .sampler(RandomSamplingBinary)\n",
    "        .crossover(SinglePointBinaryCrossover)\n",
    "        .mutation(BitFlipMutation::new(0.5))\n",
    "        .duplicates_cleaner(ExactDuplicatesCleaner)\n",
    "        .num_vars(5)\n",
    "        .population_size(16)\n",
    "        .num_offsprings(16)\n",
    "        .num_iterations(10)\n",
    "        .mutation_rate(0.1)\n",
    "        .crossover_rate(0.9)\n",
    "        .keep_infeasible(false)\n",
    "        .build()\n",
    "        .unwrap();\n",
    "\n",
    "    algorithm.run().expect(\"NSGA2 run failed\");\n",
    "\n",
    "    let population = algorithm.population().expect(\"populationulation should have been initialized\");\n",
    "    population.clone()\n",
    "};"
   ]
  },
  {
   "cell_type": "code",
   "execution_count": 19,
   "id": "66546225-669a-4c82-a43f-a0f334cee6b7",
   "metadata": {
    "vscode": {
     "languageId": "rust"
    }
   },
   "outputs": [
    {
     "data": {
      "text/plain": [
       "[[1.0, 0.0, 0.0, 1.0, 1.0],\n",
       " [1.0, 1.0, 0.0, 1.0, 0.0],\n",
       " [0.0, 1.0, 0.0, 0.0, 1.0],\n",
       " [1.0, 0.0, 0.0, 0.0, 1.0],\n",
       " [1.0, 0.0, 0.0, 1.0, 0.0],\n",
       " [0.0, 0.0, 0.0, 1.0, 1.0],\n",
       " [0.0, 0.0, 1.0, 0.0, 0.0],\n",
       " [1.0, 1.0, 0.0, 0.0, 0.0],\n",
       " [0.0, 1.0, 0.0, 1.0, 0.0],\n",
       " [0.0, 0.0, 0.0, 1.0, 0.0],\n",
       " [0.0, 0.0, 0.0, 0.0, 1.0],\n",
       " [1.0, 0.0, 0.0, 0.0, 0.0],\n",
       " [0.0, 1.0, 0.0, 0.0, 0.0],\n",
       " [0.0, 0.0, 0.0, 0.0, 0.0]], shape=[14, 5], strides=[5, 1], layout=Cc (0x5), const ndim=2"
      ]
     },
     "execution_count": 19,
     "metadata": {},
     "output_type": "execute_result"
    }
   ],
   "source": [
    "// repl\n",
    "// Get genes\n",
    "population.genes"
   ]
  },
  {
   "cell_type": "code",
   "execution_count": 20,
   "id": "ba1436f1-9dc0-4eca-83f0-e13418bb85cb",
   "metadata": {
    "vscode": {
     "languageId": "rust"
    }
   },
   "outputs": [
    {
     "data": {
      "text/plain": [
       "[[-7.0, -15.0],\n",
       " [-6.0, -13.0],\n",
       " [-7.0, -6.0],\n",
       " [-6.0, -9.0],\n",
       " [-3.0, -11.0],\n",
       " [-5.0, -10.0],\n",
       " [-6.0, -1.0],\n",
       " [-5.0, -7.0],\n",
       " [-4.0, -8.0],\n",
       " [-1.0, -6.0],\n",
       " [-4.0, -4.0],\n",
       " [-2.0, -5.0],\n",
       " [-3.0, -2.0],\n",
       " [-0.0, -0.0]], shape=[14, 2], strides=[2, 1], layout=Cc (0x5), const ndim=2"
      ]
     },
     "execution_count": 20,
     "metadata": {},
     "output_type": "execute_result"
    }
   ],
   "source": [
    "// repl\n",
    "// Get fitness\n",
    "population.fitness"
   ]
  },
  {
   "cell_type": "code",
   "execution_count": 21,
   "id": "5197ccb9-481d-4815-a433-2fe861a6ffac",
   "metadata": {
    "vscode": {
     "languageId": "rust"
    }
   },
   "outputs": [
    {
     "data": {
      "text/plain": [
       "[0.0, 0.0, -1.0, -2.0, -3.0, -2.0, -1.0, -2.0, -2.0, -5.0, -4.0, -5.0, -4.0, -7.0], shape=[14], strides=[1], layout=CFcf (0xf), const ndim=1"
      ]
     },
     "execution_count": 21,
     "metadata": {},
     "output_type": "execute_result"
    }
   ],
   "source": [
    "// repl\n",
    "// Get constraints\n",
    "population.constraints"
   ]
  },
  {
   "cell_type": "code",
   "execution_count": 22,
   "id": "d8bf8c40-c505-40d8-a0a9-4b43aa61ef94",
   "metadata": {
    "vscode": {
     "languageId": "rust"
    }
   },
   "outputs": [
    {
     "data": {
      "text/plain": [
       "[0.0, 0.0, -1.0, -2.0, -3.0, -2.0, -1.0, -2.0, -2.0, -5.0, -4.0, -5.0, -4.0, -7.0], shape=[14], strides=[1], layout=CFcf (0xf), const ndim=1"
      ]
     },
     "execution_count": 22,
     "metadata": {},
     "output_type": "execute_result"
    }
   ],
   "source": [
    "// repl\n",
    "// Get rank (for Nsga2)\n",
    "population.constraints"
   ]
  },
  {
   "cell_type": "markdown",
   "id": "1c297253-5aed-4c6f-8f75-c5e103cfb728",
   "metadata": {},
   "source": [
    "Note that in this example there is just one individual with rank 0, i.e Pareto optimal. Algorithms in `moors` store all individuals with rank 0 in a special attribute `best`"
   ]
  },
  {
   "cell_type": "code",
   "execution_count": 24,
   "id": "ee76d108-688b-4d4a-aee3-03a7535f11a8",
   "metadata": {
    "vscode": {
     "languageId": "rust"
    }
   },
   "outputs": [
    {
     "data": {
      "text/plain": [
       "Population { genes: [[1.0, 0.0, 0.0, 1.0, 1.0]], shape=[1, 5], strides=[5, 1], layout=CFcf (0xf), const ndim=2, fitness: [[-7.0, -15.0]], shape=[1, 2], strides=[2, 1], layout=CFcf (0xf), const ndim=2, constraints: [0.0], shape=[1], strides=[1], layout=CFcf (0xf), const ndim=1, rank: Some([0], shape=[1], strides=[1], layout=CFcf (0xf), const ndim=1), survival_score: Some([inf], shape=[1], strides=[1], layout=CFcf (0xf), const ndim=1), constraint_violation_totals: Some([0.0], shape=[1], strides=[1], layout=CFcf (0xf), const ndim=1) }"
      ]
     },
     "execution_count": 24,
     "metadata": {},
     "output_type": "execute_result"
    }
   ],
   "source": [
    "// repl\n",
    "let best = population.best();\n",
    "best"
   ]
  },
  {
   "cell_type": "code",
   "execution_count": 28,
   "id": "8c021bcd-8943-4f7b-9803-18d16077259a",
   "metadata": {
    "vscode": {
     "languageId": "rust"
    }
   },
   "outputs": [
    {
     "data": {
      "text/plain": [
       "Individual { genes: [1.0, 0.0, 0.0, 1.0, 1.0], shape=[5], strides=[1], layout=CFcf (0xf), const ndim=1, fitness: [-7.0, -15.0], shape=[2], strides=[1], layout=CFcf (0xf), const ndim=1, constraints: 0.0, shape=[], strides=[], layout=CFcf (0xf), const ndim=0, rank: Some(0), survival_score: Some(inf), constraint_violation_totals: Some(0.0) }"
      ]
     },
     "execution_count": 28,
     "metadata": {},
     "output_type": "execute_result"
    }
   ],
   "source": [
    "// repl\n",
    "// Get the best individual (just 1 in this example)\n",
    "best.get(0)"
   ]
  }
 ],
 "metadata": {
  "kernelspec": {
   "display_name": "Rust",
   "language": "rust",
   "name": "rust"
  },
  "language_info": {
   "codemirror_mode": "rust",
   "file_extension": ".rs",
   "mimetype": "text/rust",
   "name": "Rust",
   "pygment_lexer": "rust",
   "version": ""
  }
 },
 "nbformat": 4,
 "nbformat_minor": 5
}
