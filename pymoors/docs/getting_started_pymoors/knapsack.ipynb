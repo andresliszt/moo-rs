{
 "cells": [
  {
   "cell_type": "markdown",
   "id": "41171f30-5bee-413f-a626-4cd399e92d1f",
   "metadata": {},
   "source": [
    "# Example: The Multi-Objective Knapsack Problem\n",
    "\n",
    "The **multi-objective knapsack problem** is a classic example in optimization where we aim to select items, each with its own *benefits* and *costs*, subject to certain constraints (e.g., weight capacity). In the multi-objective version, we want to optimize more than one objective function simultaneously—often, maximizing multiple benefits or qualities at once.\n",
    "\n",
    "## Mathematical Formulation\n",
    "\n",
    "Suppose we have $n$ items. Each item $i$ has:\n",
    "- A profit $p_i$.\n",
    "- A quality $q_i$.\n",
    "- A weight $w_i$.\n",
    "\n",
    "Let $(x_i)$ be a binary decision variable where $x_i = 1$ if item $i$ is selected and $x_i = 0$ otherwise. We define a knapsack capacity $C$. A common **multi-objective** formulation for this problem is:\n",
    "\n",
    "$$\n",
    "\\begin{aligned}\n",
    "&\\text{Maximize} && f_1(x) = \\sum_{i=1}^{n} p_i x_i \\\\\n",
    "&\\text{Maximize} && f_2(x) = \\sum_{i=1}^{n} q_i x_i \\\\\n",
    "&\\text{subject to} && \\sum_{i=1}^{n} w_i x_i \\leq C,\\\\\n",
    "& && x_i \\in \\{0, 1\\}, \\quad i = 1,\\dots,n.\n",
    "\\end{aligned}\n",
    "$$"
   ]
  },
  {
   "cell_type": "code",
   "execution_count": 2,
   "id": "a730f786-7a39-45b6-bc92-ce650cd3963f",
   "metadata": {},
   "outputs": [],
   "source": [
    "import numpy as np\n",
    "\n",
    "from pymoors import (\n",
    "    Nsga2,\n",
    "    RandomSamplingBinary,\n",
    "    BitFlipMutation,\n",
    "    SinglePointBinaryCrossover,\n",
    "    ExactDuplicatesCleaner,\n",
    ")\n",
    "from pymoors.typing import TwoDArray\n",
    "\n",
    "\n",
    "PROFITS = np.array([2, 3, 6, 1, 4])\n",
    "QUALITIES = np.array([5, 2, 1, 6, 4])\n",
    "WEIGHTS = np.array([2, 3, 6, 2, 3])\n",
    "CAPACITY = 7\n",
    "\n",
    "\n",
    "def knapsack_fitness(genes: TwoDArray) -> TwoDArray:\n",
    "    # Calculate total profit\n",
    "    profit_sum = np.sum(PROFITS * genes, axis=1, keepdims=True)\n",
    "    # Calculate total quality\n",
    "    quality_sum = np.sum(QUALITIES * genes, axis=1, keepdims=True)\n",
    "\n",
    "    # We want to maximize profit and quality,\n",
    "    # so in pymoors we minimize the negative values\n",
    "    f1 = -profit_sum\n",
    "    f2 = -quality_sum\n",
    "    return np.column_stack([f1, f2])\n",
    "\n",
    "\n",
    "def knapsack_constraint(genes: TwoDArray) -> TwoDArray:\n",
    "    # Calculate total weight\n",
    "    weight_sum = np.sum(WEIGHTS * genes, axis=1, keepdims=True)\n",
    "    # Inequality constraint: weight_sum <= capacity\n",
    "    return weight_sum - CAPACITY\n",
    "\n",
    "\n",
    "algorithm = Nsga2(\n",
    "    sampler=RandomSamplingBinary(),\n",
    "    crossover=SinglePointBinaryCrossover(),\n",
    "    mutation=BitFlipMutation(gene_mutation_rate=0.5),\n",
    "    fitness_fn=knapsack_fitness,\n",
    "    constraints_fn=knapsack_constraint,\n",
    "    num_objectives=2,\n",
    "    num_constraints=1,\n",
    "    duplicates_cleaner=ExactDuplicatesCleaner(),\n",
    "    num_vars=5,\n",
    "    population_size=16,\n",
    "    num_offsprings=16,\n",
    "    num_iterations=10,\n",
    "    mutation_rate=0.1,\n",
    "    crossover_rate=0.9,\n",
    "    keep_infeasible=False,\n",
    "    verbose=False\n",
    ")\n",
    "\n",
    "algorithm.run()"
   ]
  },
  {
   "cell_type": "markdown",
   "id": "149d29fe-eadf-4043-92d1-c76336d40bdc",
   "metadata": {},
   "source": [
    "In this **small example**, the algorithm finds a **single** solution on the Pareto front: selecting the items **(A, D, E)**, with a profit of **7** and a quality of **15**. This means there is no other combination that can match or exceed *both* objectives without exceeding the knapsack capacity (7).\n",
    "\n",
    "Once the algorithm finishes, it stores a `population` attribute that contains all the individuals evaluated during the search."
   ]
  },
  {
   "cell_type": "code",
   "execution_count": 3,
   "id": "6b7f0c72-e005-4745-9e1c-91aa7143fac8",
   "metadata": {},
   "outputs": [
    {
     "data": {
      "text/plain": [
       "array([[1., 0., 0., 1., 1.],\n",
       "       [1., 1., 0., 1., 0.],\n",
       "       [0., 1., 0., 0., 1.],\n",
       "       [0., 0., 0., 1., 1.],\n",
       "       [1., 0., 0., 0., 1.],\n",
       "       [1., 0., 0., 1., 0.],\n",
       "       [0., 1., 0., 1., 0.],\n",
       "       [1., 1., 0., 0., 0.],\n",
       "       [0., 0., 1., 0., 0.],\n",
       "       [0., 0., 0., 0., 1.],\n",
       "       [0., 0., 0., 1., 0.],\n",
       "       [1., 0., 0., 0., 0.],\n",
       "       [0., 1., 0., 0., 0.],\n",
       "       [0., 0., 0., 0., 0.]])"
      ]
     },
     "execution_count": 3,
     "metadata": {},
     "output_type": "execute_result"
    }
   ],
   "source": [
    "population = algorithm.population\n",
    "# Get genes\n",
    "population.genes"
   ]
  },
  {
   "cell_type": "code",
   "execution_count": 4,
   "id": "a0b747ba-6740-4ed7-87ed-d99ea91cae69",
   "metadata": {},
   "outputs": [
    {
     "data": {
      "text/plain": [
       "array([[ -7., -15.],\n",
       "       [ -6., -13.],\n",
       "       [ -7.,  -6.],\n",
       "       [ -5., -10.],\n",
       "       [ -6.,  -9.],\n",
       "       [ -3., -11.],\n",
       "       [ -4.,  -8.],\n",
       "       [ -5.,  -7.],\n",
       "       [ -6.,  -1.],\n",
       "       [ -4.,  -4.],\n",
       "       [ -1.,  -6.],\n",
       "       [ -2.,  -5.],\n",
       "       [ -3.,  -2.],\n",
       "       [ -0.,  -0.]])"
      ]
     },
     "execution_count": 4,
     "metadata": {},
     "output_type": "execute_result"
    }
   ],
   "source": [
    "# Get fitness\n",
    "population.fitness"
   ]
  },
  {
   "cell_type": "code",
   "execution_count": 5,
   "id": "68c2dcc8-014b-49b9-91f1-5e5c7f83fb8e",
   "metadata": {},
   "outputs": [
    {
     "data": {
      "text/plain": [
       "array([[ 0.],\n",
       "       [ 0.],\n",
       "       [-1.],\n",
       "       [-2.],\n",
       "       [-2.],\n",
       "       [-3.],\n",
       "       [-2.],\n",
       "       [-2.],\n",
       "       [-1.],\n",
       "       [-4.],\n",
       "       [-5.],\n",
       "       [-5.],\n",
       "       [-4.],\n",
       "       [-7.]])"
      ]
     },
     "execution_count": 5,
     "metadata": {},
     "output_type": "execute_result"
    }
   ],
   "source": [
    "# Get constraints\n",
    "population.constraints"
   ]
  },
  {
   "cell_type": "code",
   "execution_count": 6,
   "id": "06e04bfb-4560-4013-ade8-f9af43a46d89",
   "metadata": {},
   "outputs": [
    {
     "data": {
      "text/plain": [
       "array([0, 1, 1, 2, 2, 2, 3, 3, 3, 4, 4, 4, 5, 6], dtype=uint64)"
      ]
     },
     "execution_count": 6,
     "metadata": {},
     "output_type": "execute_result"
    }
   ],
   "source": [
    "# Get rank (for Nsga2)\n",
    "population.rank"
   ]
  },
  {
   "cell_type": "markdown",
   "id": "cbd676dd-ac63-4d79-b671-27ab5a294e8b",
   "metadata": {},
   "source": [
    "Note that in this example there is just one individual with rank 0, i.e Pareto optimal. Algorithms in `pymoors` store all individuals with rank 0 in a special attribute `best`, which is list of  `pymoors.schemas.Individual ` objects"
   ]
  },
  {
   "cell_type": "code",
   "execution_count": 7,
   "id": "a51d10d7-947b-4d45-acdf-ba5ab048b3d6",
   "metadata": {},
   "outputs": [
    {
     "data": {
      "text/plain": [
       "[<pymoors.schemas.Individual at 0x111ad27e0>]"
      ]
     },
     "execution_count": 7,
     "metadata": {},
     "output_type": "execute_result"
    }
   ],
   "source": [
    "best = population.best\n",
    "best"
   ]
  },
  {
   "cell_type": "code",
   "execution_count": 8,
   "id": "2db1b904-bb99-4663-bc70-4ecd19c1b594",
   "metadata": {},
   "outputs": [
    {
     "data": {
      "text/plain": [
       "array([1., 0., 0., 1., 1.])"
      ]
     },
     "execution_count": 8,
     "metadata": {},
     "output_type": "execute_result"
    }
   ],
   "source": [
    "best[0].genes"
   ]
  },
  {
   "cell_type": "code",
   "execution_count": 9,
   "id": "cd5064bf-7af6-44bd-ae48-375af94d61ef",
   "metadata": {},
   "outputs": [
    {
     "data": {
      "text/plain": [
       "array([ -7., -15.])"
      ]
     },
     "execution_count": 9,
     "metadata": {},
     "output_type": "execute_result"
    }
   ],
   "source": [
    "best[0].fitness"
   ]
  },
  {
   "cell_type": "markdown",
   "id": "69abfa89-ec37-4391-9b1e-603f458cb3e1",
   "metadata": {},
   "source": [
    "> **ℹ️ Note – Population Size and Duplicates**  \n",
    ">  \n",
    "> Note that although the specified `population_size` was 16, the final population ended up\n",
    "> being 13 individuals, of which 1 had `rank = 0`.  \n",
    "> This is because we used the `keep_infeasible=False` argument, removing any individual\n",
    "> that did not satisfy the constraints (in this case, the weight constraint).  \n",
    "> We also used a duplicate remover called `ExactDuplicatesCleaner` that eliminates all exact\n",
    "> duplicates—meaning whenever `genes1 == genes2` in every component.  \n",
    ">\n",
    "> **💡 Tip – Variable Types in pymoors**  \n",
    ">  \n",
    "> In **pymoors**, there is no strict enforcement of whether variables are integer, binary, or\n",
    "> real. The core Rust implementation works with `f64` ndarrays.  \n",
    "> To preserve a specific variable type—binary, integer, or real—you must ensure that the\n",
    "> genetic operators themselves maintain it.  \n",
    ">  \n",
    "> It is **the user's responsibility** to choose the appropriate genetic operators for the\n",
    "> variable type in question. In the knapsack example, we use binary-style genetic operators,\n",
    "> which is why the solutions are arrays of 0 s and 1 s."
   ]
  }
 ],
 "metadata": {
  "kernelspec": {
   "display_name": "Python 3 (ipykernel)",
   "language": "python",
   "name": "python3"
  },
  "language_info": {
   "codemirror_mode": {
    "name": "ipython",
    "version": 3
   },
   "file_extension": ".py",
   "mimetype": "text/x-python",
   "name": "python",
   "nbconvert_exporter": "python",
   "pygments_lexer": "ipython3",
   "version": "3.12.8"
  }
 },
 "nbformat": 4,
 "nbformat_minor": 5
}
